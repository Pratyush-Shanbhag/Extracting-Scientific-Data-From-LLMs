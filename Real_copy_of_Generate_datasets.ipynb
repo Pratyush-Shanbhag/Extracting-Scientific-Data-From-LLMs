{
  "cells": [
    {
      "cell_type": "markdown",
      "metadata": {
        "id": "tw9S1uMhKeCS"
      },
      "source": [
        "We need to access OpenAI API. I use the older version, but there is a new one (1.xx), which is functionally equivalent for these purposes but with a different syntax. Feel free to modify the prompt function if you want to use the latest openai package."
      ]
    },
    {
      "cell_type": "markdown",
      "metadata": {
        "id": "VnpiO44_X7Fu"
      },
      "source": []
    },
    {
      "cell_type": "code",
      "execution_count": null,
      "metadata": {
        "colab": {
          "base_uri": "https://localhost:8080/"
        },
        "id": "R9e8MkMLabca",
        "outputId": "cafd9722-c311-4f53-8b71-963fd4877435"
      },
      "outputs": [
        {
          "name": "stdout",
          "output_type": "stream",
          "text": [
            "Requirement already satisfied: openai==0.28 in /usr/local/lib/python3.10/dist-packages (0.28.0)\n",
            "Requirement already satisfied: requests>=2.20 in /usr/local/lib/python3.10/dist-packages (from openai==0.28) (2.31.0)\n",
            "Requirement already satisfied: tqdm in /usr/local/lib/python3.10/dist-packages (from openai==0.28) (4.66.2)\n",
            "Requirement already satisfied: aiohttp in /usr/local/lib/python3.10/dist-packages (from openai==0.28) (3.9.5)\n",
            "Requirement already satisfied: charset-normalizer<4,>=2 in /usr/local/lib/python3.10/dist-packages (from requests>=2.20->openai==0.28) (3.3.2)\n",
            "Requirement already satisfied: idna<4,>=2.5 in /usr/local/lib/python3.10/dist-packages (from requests>=2.20->openai==0.28) (3.7)\n",
            "Requirement already satisfied: urllib3<3,>=1.21.1 in /usr/local/lib/python3.10/dist-packages (from requests>=2.20->openai==0.28) (2.0.7)\n",
            "Requirement already satisfied: certifi>=2017.4.17 in /usr/local/lib/python3.10/dist-packages (from requests>=2.20->openai==0.28) (2024.2.2)\n",
            "Requirement already satisfied: aiosignal>=1.1.2 in /usr/local/lib/python3.10/dist-packages (from aiohttp->openai==0.28) (1.3.1)\n",
            "Requirement already satisfied: attrs>=17.3.0 in /usr/local/lib/python3.10/dist-packages (from aiohttp->openai==0.28) (23.2.0)\n",
            "Requirement already satisfied: frozenlist>=1.1.1 in /usr/local/lib/python3.10/dist-packages (from aiohttp->openai==0.28) (1.4.1)\n",
            "Requirement already satisfied: multidict<7.0,>=4.5 in /usr/local/lib/python3.10/dist-packages (from aiohttp->openai==0.28) (6.0.5)\n",
            "Requirement already satisfied: yarl<2.0,>=1.0 in /usr/local/lib/python3.10/dist-packages (from aiohttp->openai==0.28) (1.9.4)\n",
            "Requirement already satisfied: async-timeout<5.0,>=4.0 in /usr/local/lib/python3.10/dist-packages (from aiohttp->openai==0.28) (4.0.3)\n",
            "Requirement already satisfied: pymatgen in /usr/local/lib/python3.10/dist-packages (2024.4.13)\n",
            "Requirement already satisfied: matplotlib>=1.5 in /usr/local/lib/python3.10/dist-packages (from pymatgen) (3.7.1)\n",
            "Requirement already satisfied: monty>=2024.2.2 in /usr/local/lib/python3.10/dist-packages (from pymatgen) (2024.4.17)\n",
            "Requirement already satisfied: networkx>=2.2 in /usr/local/lib/python3.10/dist-packages (from pymatgen) (3.3)\n",
            "Requirement already satisfied: numpy>=1.25.0 in /usr/local/lib/python3.10/dist-packages (from pymatgen) (1.25.2)\n",
            "Requirement already satisfied: palettable>=3.1.1 in /usr/local/lib/python3.10/dist-packages (from pymatgen) (3.3.3)\n",
            "Requirement already satisfied: pandas in /usr/local/lib/python3.10/dist-packages (from pymatgen) (2.0.3)\n",
            "Requirement already satisfied: plotly>=4.5.0 in /usr/local/lib/python3.10/dist-packages (from pymatgen) (5.15.0)\n",
            "Requirement already satisfied: pybtex in /usr/local/lib/python3.10/dist-packages (from pymatgen) (0.24.0)\n",
            "Requirement already satisfied: requests in /usr/local/lib/python3.10/dist-packages (from pymatgen) (2.31.0)\n",
            "Requirement already satisfied: ruamel.yaml>=0.17.0 in /usr/local/lib/python3.10/dist-packages (from pymatgen) (0.18.6)\n",
            "Requirement already satisfied: scipy>=1.5.0 in /usr/local/lib/python3.10/dist-packages (from pymatgen) (1.11.4)\n",
            "Requirement already satisfied: spglib>=2.0.2 in /usr/local/lib/python3.10/dist-packages (from pymatgen) (2.4.0)\n",
            "Requirement already satisfied: sympy in /usr/local/lib/python3.10/dist-packages (from pymatgen) (1.12)\n",
            "Requirement already satisfied: tabulate in /usr/local/lib/python3.10/dist-packages (from pymatgen) (0.9.0)\n",
            "Requirement already satisfied: tqdm in /usr/local/lib/python3.10/dist-packages (from pymatgen) (4.66.2)\n",
            "Requirement already satisfied: uncertainties>=3.1.4 in /usr/local/lib/python3.10/dist-packages (from pymatgen) (3.1.7)\n",
            "Requirement already satisfied: joblib in /usr/local/lib/python3.10/dist-packages (from pymatgen) (1.4.0)\n",
            "Requirement already satisfied: contourpy>=1.0.1 in /usr/local/lib/python3.10/dist-packages (from matplotlib>=1.5->pymatgen) (1.2.1)\n",
            "Requirement already satisfied: cycler>=0.10 in /usr/local/lib/python3.10/dist-packages (from matplotlib>=1.5->pymatgen) (0.12.1)\n",
            "Requirement already satisfied: fonttools>=4.22.0 in /usr/local/lib/python3.10/dist-packages (from matplotlib>=1.5->pymatgen) (4.51.0)\n",
            "Requirement already satisfied: kiwisolver>=1.0.1 in /usr/local/lib/python3.10/dist-packages (from matplotlib>=1.5->pymatgen) (1.4.5)\n",
            "Requirement already satisfied: packaging>=20.0 in /usr/local/lib/python3.10/dist-packages (from matplotlib>=1.5->pymatgen) (24.0)\n",
            "Requirement already satisfied: pillow>=6.2.0 in /usr/local/lib/python3.10/dist-packages (from matplotlib>=1.5->pymatgen) (9.4.0)\n",
            "Requirement already satisfied: pyparsing>=2.3.1 in /usr/local/lib/python3.10/dist-packages (from matplotlib>=1.5->pymatgen) (3.1.2)\n",
            "Requirement already satisfied: python-dateutil>=2.7 in /usr/local/lib/python3.10/dist-packages (from matplotlib>=1.5->pymatgen) (2.8.2)\n",
            "Requirement already satisfied: tenacity>=6.2.0 in /usr/local/lib/python3.10/dist-packages (from plotly>=4.5.0->pymatgen) (8.2.3)\n",
            "Requirement already satisfied: ruamel.yaml.clib>=0.2.7 in /usr/local/lib/python3.10/dist-packages (from ruamel.yaml>=0.17.0->pymatgen) (0.2.8)\n",
            "Requirement already satisfied: future in /usr/local/lib/python3.10/dist-packages (from uncertainties>=3.1.4->pymatgen) (0.18.3)\n",
            "Requirement already satisfied: pytz>=2020.1 in /usr/local/lib/python3.10/dist-packages (from pandas->pymatgen) (2023.4)\n",
            "Requirement already satisfied: tzdata>=2022.1 in /usr/local/lib/python3.10/dist-packages (from pandas->pymatgen) (2024.1)\n",
            "Requirement already satisfied: PyYAML>=3.01 in /usr/local/lib/python3.10/dist-packages (from pybtex->pymatgen) (6.0.1)\n",
            "Requirement already satisfied: latexcodec>=1.0.4 in /usr/local/lib/python3.10/dist-packages (from pybtex->pymatgen) (3.0.0)\n",
            "Requirement already satisfied: six in /usr/local/lib/python3.10/dist-packages (from pybtex->pymatgen) (1.16.0)\n",
            "Requirement already satisfied: charset-normalizer<4,>=2 in /usr/local/lib/python3.10/dist-packages (from requests->pymatgen) (3.3.2)\n",
            "Requirement already satisfied: idna<4,>=2.5 in /usr/local/lib/python3.10/dist-packages (from requests->pymatgen) (3.7)\n",
            "Requirement already satisfied: urllib3<3,>=1.21.1 in /usr/local/lib/python3.10/dist-packages (from requests->pymatgen) (2.0.7)\n",
            "Requirement already satisfied: certifi>=2017.4.17 in /usr/local/lib/python3.10/dist-packages (from requests->pymatgen) (2024.2.2)\n",
            "Requirement already satisfied: mpmath>=0.19 in /usr/local/lib/python3.10/dist-packages (from sympy->pymatgen) (1.3.0)\n",
            "Requirement already satisfied: matplotlib in /usr/local/lib/python3.10/dist-packages (3.7.1)\n",
            "Requirement already satisfied: contourpy>=1.0.1 in /usr/local/lib/python3.10/dist-packages (from matplotlib) (1.2.1)\n",
            "Requirement already satisfied: cycler>=0.10 in /usr/local/lib/python3.10/dist-packages (from matplotlib) (0.12.1)\n",
            "Requirement already satisfied: fonttools>=4.22.0 in /usr/local/lib/python3.10/dist-packages (from matplotlib) (4.51.0)\n",
            "Requirement already satisfied: kiwisolver>=1.0.1 in /usr/local/lib/python3.10/dist-packages (from matplotlib) (1.4.5)\n",
            "Requirement already satisfied: numpy>=1.20 in /usr/local/lib/python3.10/dist-packages (from matplotlib) (1.25.2)\n",
            "Requirement already satisfied: packaging>=20.0 in /usr/local/lib/python3.10/dist-packages (from matplotlib) (24.0)\n",
            "Requirement already satisfied: pillow>=6.2.0 in /usr/local/lib/python3.10/dist-packages (from matplotlib) (9.4.0)\n",
            "Requirement already satisfied: pyparsing>=2.3.1 in /usr/local/lib/python3.10/dist-packages (from matplotlib) (3.1.2)\n",
            "Requirement already satisfied: python-dateutil>=2.7 in /usr/local/lib/python3.10/dist-packages (from matplotlib) (2.8.2)\n",
            "Requirement already satisfied: six>=1.5 in /usr/local/lib/python3.10/dist-packages (from python-dateutil>=2.7->matplotlib) (1.16.0)\n"
          ]
        }
      ],
      "source": [
        "# installs openai package\n",
        "!pip install openai==0.28\n",
        "# installs pymatgen package which is used to compare materials\n",
        "!pip install pymatgen\n",
        "# installs matplotlib package which is used for parity plot\n",
        "!pip install matplotlib"
      ]
    },
    {
      "cell_type": "markdown",
      "metadata": {
        "id": "ZNtX7mlbK2hG"
      },
      "source": [
        "We'll use pandas to have data in a nice data structure, and time to keep track of created files"
      ]
    },
    {
      "cell_type": "code",
      "execution_count": null,
      "metadata": {
        "id": "UmplC-kSaZWc"
      },
      "outputs": [],
      "source": [
        "#pandas for dataframes\n",
        "import pandas as pd\n",
        "#regex\n",
        "import re\n",
        "#openai for chatGPT\n",
        "import openai\n",
        "from time import strftime\n",
        "import pymatgen\n",
        "from pymatgen.core.structure import Composition\n",
        "# Comma Seperated Values for the data\n",
        "import csv\n",
        "import math\n",
        "import matplotlib.pyplot as plt\n",
        "import matplotlib.ticker as ticker"
      ]
    },
    {
      "cell_type": "markdown",
      "metadata": {
        "id": "7LDt6ltVLCmY"
      },
      "source": [
        "This is a simple function to help send and receive data from ChatGPT API. It loops up to 5 times in case OpenAI fails (which happens randomly sometimes). Here you'd also adjust the model parameters, according to the OpenAI API reference (start here: https://platform.openai.com/docs/api-reference/chat)"
      ]
    },
    {
      "cell_type": "code",
      "execution_count": null,
      "metadata": {
        "id": "ow0RRmv-c0g_"
      },
      "outputs": [],
      "source": [
        "def prompt(Q):\n",
        "  tries = 0\n",
        "  while tries<5:\n",
        "    try:\n",
        "      response = openai.ChatCompletion.create(\n",
        "        model=mmodel,\n",
        "        messages=Q,\n",
        "        temperature=0.7,\n",
        "        #max_tokens=tkn,\n",
        "        #frequency_penalty=0,\n",
        "        presence_penalty=1,\n",
        "        request_timeout=199\n",
        "      )['choices'][0]['message']['content']\n",
        "      break\n",
        "    except Exception as e:\n",
        "      tries = tries+1\n",
        "      print(f\"An error occurred {tries:d}th time: {e}\")\n",
        "  return (Q,response)"
      ]
    },
    {
      "cell_type": "markdown",
      "metadata": {
        "id": "2hhwjQWdLWZz"
      },
      "source": [
        "Get time and date for convenient file naming"
      ]
    },
    {
      "cell_type": "code",
      "execution_count": null,
      "metadata": {
        "id": "8a1ayoovdXxp"
      },
      "outputs": [],
      "source": [
        "dtime = strftime(\"%Y_%m_%d-%H%M%S\")"
      ]
    },
    {
      "cell_type": "markdown",
      "metadata": {
        "id": "FMGnirCec-yE"
      },
      "source": [
        "Here you choose the model to use and provide the API key\n"
      ]
    },
    {
      "cell_type": "code",
      "execution_count": null,
      "metadata": {
        "id": "L12bDXihamIV"
      },
      "outputs": [],
      "source": [
        "mmodel = \"gpt-3.5-turbo-1106\"\n",
        "openai.api_key = \"\""
      ]
    },
    {
      "cell_type": "markdown",
      "metadata": {
        "id": "YX_8daefLe7F"
      },
      "source": [
        "Here we have the prompts we will be using, as well as the system prompt which servers as a general global set of instructions or information. The system prompt may be left empty.\n",
        "\n",
        "I have two prompts, one asks to generate a table, and the second one iteratively asks to continue that table. This is likely not an optimal approach, but it gives some results so a good example.\n",
        "\n",
        "I also separated the property from the prompt so that I can vary the property and keep the same prompts, and the othery way around. It does not have to be that way if more task specific prompts work better."
      ]
    },
    {
      "cell_type": "code",
      "execution_count": null,
      "metadata": {
        "colab": {
          "base_uri": "https://localhost:8080/",
          "height": 206
        },
        "id": "zY_YtUkeWGxi",
        "outputId": "3a813c38-8af0-4e79-9403-839a8a7607ed"
      },
      "outputs": [
        {
          "data": {
            "application/vnd.google.colaboratory.intrinsic+json": {
              "summary": "{\n  \"name\": \"gt_df\",\n  \"rows\": 211,\n  \"fields\": [\n    {\n      \"column\": \"Material\",\n      \"properties\": {\n        \"dtype\": \"string\",\n        \"num_unique_values\": 135,\n        \"samples\": [\n          \"Be23Cu12Ni10Ti14Zr41\",\n          \"Mg85Cu15Gd10\",\n          \"Al14.3Cu23.3Ni10.5Zr51.9\"\n        ],\n        \"semantic_type\": \"\",\n        \"description\": \"\"\n      }\n    },\n    {\n      \"column\": \"Value (K/s)\",\n      \"properties\": {\n        \"dtype\": \"number\",\n        \"std\": 41312904514.65567,\n        \"min\": 0.001,\n        \"max\": 600000000000.0,\n        \"num_unique_values\": 122,\n        \"samples\": [\n          20.0,\n          80.0,\n          60.0\n        ],\n        \"semantic_type\": \"\",\n        \"description\": \"\"\n      }\n    }\n  ]\n}",
              "type": "dataframe",
              "variable_name": "gt_df"
            },
            "text/html": [
              "\n",
              "  <div id=\"df-4e133d0c-04b9-4ad0-bafb-7001e1b68e0c\" class=\"colab-df-container\">\n",
              "    <div>\n",
              "<style scoped>\n",
              "    .dataframe tbody tr th:only-of-type {\n",
              "        vertical-align: middle;\n",
              "    }\n",
              "\n",
              "    .dataframe tbody tr th {\n",
              "        vertical-align: top;\n",
              "    }\n",
              "\n",
              "    .dataframe thead th {\n",
              "        text-align: right;\n",
              "    }\n",
              "</style>\n",
              "<table border=\"1\" class=\"dataframe\">\n",
              "  <thead>\n",
              "    <tr style=\"text-align: right;\">\n",
              "      <th></th>\n",
              "      <th>Material</th>\n",
              "      <th>Value (K/s)</th>\n",
              "    </tr>\n",
              "  </thead>\n",
              "  <tbody>\n",
              "    <tr>\n",
              "      <th>0</th>\n",
              "      <td>Ag10Cu45Zr45</td>\n",
              "      <td>8.100000e-01</td>\n",
              "    </tr>\n",
              "    <tr>\n",
              "      <th>1</th>\n",
              "      <td>Al0.07602085Cu49.95655951Gd0.01086012Zr49.9565...</td>\n",
              "      <td>1.000000e+01</td>\n",
              "    </tr>\n",
              "    <tr>\n",
              "      <th>2</th>\n",
              "      <td>Al16Ce32Co5Cu10La32Ni5</td>\n",
              "      <td>5.000000e-01</td>\n",
              "    </tr>\n",
              "    <tr>\n",
              "      <th>3</th>\n",
              "      <td>B18Fe27.2Nb4Ni40.8Si10</td>\n",
              "      <td>4.930000e+01</td>\n",
              "    </tr>\n",
              "    <tr>\n",
              "      <th>4</th>\n",
              "      <td>Ag50Cu50</td>\n",
              "      <td>1.000000e+10</td>\n",
              "    </tr>\n",
              "  </tbody>\n",
              "</table>\n",
              "</div>\n",
              "    <div class=\"colab-df-buttons\">\n",
              "\n",
              "  <div class=\"colab-df-container\">\n",
              "    <button class=\"colab-df-convert\" onclick=\"convertToInteractive('df-4e133d0c-04b9-4ad0-bafb-7001e1b68e0c')\"\n",
              "            title=\"Convert this dataframe to an interactive table.\"\n",
              "            style=\"display:none;\">\n",
              "\n",
              "  <svg xmlns=\"http://www.w3.org/2000/svg\" height=\"24px\" viewBox=\"0 -960 960 960\">\n",
              "    <path d=\"M120-120v-720h720v720H120Zm60-500h600v-160H180v160Zm220 220h160v-160H400v160Zm0 220h160v-160H400v160ZM180-400h160v-160H180v160Zm440 0h160v-160H620v160ZM180-180h160v-160H180v160Zm440 0h160v-160H620v160Z\"/>\n",
              "  </svg>\n",
              "    </button>\n",
              "\n",
              "  <style>\n",
              "    .colab-df-container {\n",
              "      display:flex;\n",
              "      gap: 12px;\n",
              "    }\n",
              "\n",
              "    .colab-df-convert {\n",
              "      background-color: #E8F0FE;\n",
              "      border: none;\n",
              "      border-radius: 50%;\n",
              "      cursor: pointer;\n",
              "      display: none;\n",
              "      fill: #1967D2;\n",
              "      height: 32px;\n",
              "      padding: 0 0 0 0;\n",
              "      width: 32px;\n",
              "    }\n",
              "\n",
              "    .colab-df-convert:hover {\n",
              "      background-color: #E2EBFA;\n",
              "      box-shadow: 0px 1px 2px rgba(60, 64, 67, 0.3), 0px 1px 3px 1px rgba(60, 64, 67, 0.15);\n",
              "      fill: #174EA6;\n",
              "    }\n",
              "\n",
              "    .colab-df-buttons div {\n",
              "      margin-bottom: 4px;\n",
              "    }\n",
              "\n",
              "    [theme=dark] .colab-df-convert {\n",
              "      background-color: #3B4455;\n",
              "      fill: #D2E3FC;\n",
              "    }\n",
              "\n",
              "    [theme=dark] .colab-df-convert:hover {\n",
              "      background-color: #434B5C;\n",
              "      box-shadow: 0px 1px 3px 1px rgba(0, 0, 0, 0.15);\n",
              "      filter: drop-shadow(0px 1px 2px rgba(0, 0, 0, 0.3));\n",
              "      fill: #FFFFFF;\n",
              "    }\n",
              "  </style>\n",
              "\n",
              "    <script>\n",
              "      const buttonEl =\n",
              "        document.querySelector('#df-4e133d0c-04b9-4ad0-bafb-7001e1b68e0c button.colab-df-convert');\n",
              "      buttonEl.style.display =\n",
              "        google.colab.kernel.accessAllowed ? 'block' : 'none';\n",
              "\n",
              "      async function convertToInteractive(key) {\n",
              "        const element = document.querySelector('#df-4e133d0c-04b9-4ad0-bafb-7001e1b68e0c');\n",
              "        const dataTable =\n",
              "          await google.colab.kernel.invokeFunction('convertToInteractive',\n",
              "                                                    [key], {});\n",
              "        if (!dataTable) return;\n",
              "\n",
              "        const docLinkHtml = 'Like what you see? Visit the ' +\n",
              "          '<a target=\"_blank\" href=https://colab.research.google.com/notebooks/data_table.ipynb>data table notebook</a>'\n",
              "          + ' to learn more about interactive tables.';\n",
              "        element.innerHTML = '';\n",
              "        dataTable['output_type'] = 'display_data';\n",
              "        await google.colab.output.renderOutput(dataTable, element);\n",
              "        const docLink = document.createElement('div');\n",
              "        docLink.innerHTML = docLinkHtml;\n",
              "        element.appendChild(docLink);\n",
              "      }\n",
              "    </script>\n",
              "  </div>\n",
              "\n",
              "\n",
              "<div id=\"df-9bf4b323-301d-430e-a3b9-47bf193ba549\">\n",
              "  <button class=\"colab-df-quickchart\" onclick=\"quickchart('df-9bf4b323-301d-430e-a3b9-47bf193ba549')\"\n",
              "            title=\"Suggest charts\"\n",
              "            style=\"display:none;\">\n",
              "\n",
              "<svg xmlns=\"http://www.w3.org/2000/svg\" height=\"24px\"viewBox=\"0 0 24 24\"\n",
              "     width=\"24px\">\n",
              "    <g>\n",
              "        <path d=\"M19 3H5c-1.1 0-2 .9-2 2v14c0 1.1.9 2 2 2h14c1.1 0 2-.9 2-2V5c0-1.1-.9-2-2-2zM9 17H7v-7h2v7zm4 0h-2V7h2v10zm4 0h-2v-4h2v4z\"/>\n",
              "    </g>\n",
              "</svg>\n",
              "  </button>\n",
              "\n",
              "<style>\n",
              "  .colab-df-quickchart {\n",
              "      --bg-color: #E8F0FE;\n",
              "      --fill-color: #1967D2;\n",
              "      --hover-bg-color: #E2EBFA;\n",
              "      --hover-fill-color: #174EA6;\n",
              "      --disabled-fill-color: #AAA;\n",
              "      --disabled-bg-color: #DDD;\n",
              "  }\n",
              "\n",
              "  [theme=dark] .colab-df-quickchart {\n",
              "      --bg-color: #3B4455;\n",
              "      --fill-color: #D2E3FC;\n",
              "      --hover-bg-color: #434B5C;\n",
              "      --hover-fill-color: #FFFFFF;\n",
              "      --disabled-bg-color: #3B4455;\n",
              "      --disabled-fill-color: #666;\n",
              "  }\n",
              "\n",
              "  .colab-df-quickchart {\n",
              "    background-color: var(--bg-color);\n",
              "    border: none;\n",
              "    border-radius: 50%;\n",
              "    cursor: pointer;\n",
              "    display: none;\n",
              "    fill: var(--fill-color);\n",
              "    height: 32px;\n",
              "    padding: 0;\n",
              "    width: 32px;\n",
              "  }\n",
              "\n",
              "  .colab-df-quickchart:hover {\n",
              "    background-color: var(--hover-bg-color);\n",
              "    box-shadow: 0 1px 2px rgba(60, 64, 67, 0.3), 0 1px 3px 1px rgba(60, 64, 67, 0.15);\n",
              "    fill: var(--button-hover-fill-color);\n",
              "  }\n",
              "\n",
              "  .colab-df-quickchart-complete:disabled,\n",
              "  .colab-df-quickchart-complete:disabled:hover {\n",
              "    background-color: var(--disabled-bg-color);\n",
              "    fill: var(--disabled-fill-color);\n",
              "    box-shadow: none;\n",
              "  }\n",
              "\n",
              "  .colab-df-spinner {\n",
              "    border: 2px solid var(--fill-color);\n",
              "    border-color: transparent;\n",
              "    border-bottom-color: var(--fill-color);\n",
              "    animation:\n",
              "      spin 1s steps(1) infinite;\n",
              "  }\n",
              "\n",
              "  @keyframes spin {\n",
              "    0% {\n",
              "      border-color: transparent;\n",
              "      border-bottom-color: var(--fill-color);\n",
              "      border-left-color: var(--fill-color);\n",
              "    }\n",
              "    20% {\n",
              "      border-color: transparent;\n",
              "      border-left-color: var(--fill-color);\n",
              "      border-top-color: var(--fill-color);\n",
              "    }\n",
              "    30% {\n",
              "      border-color: transparent;\n",
              "      border-left-color: var(--fill-color);\n",
              "      border-top-color: var(--fill-color);\n",
              "      border-right-color: var(--fill-color);\n",
              "    }\n",
              "    40% {\n",
              "      border-color: transparent;\n",
              "      border-right-color: var(--fill-color);\n",
              "      border-top-color: var(--fill-color);\n",
              "    }\n",
              "    60% {\n",
              "      border-color: transparent;\n",
              "      border-right-color: var(--fill-color);\n",
              "    }\n",
              "    80% {\n",
              "      border-color: transparent;\n",
              "      border-right-color: var(--fill-color);\n",
              "      border-bottom-color: var(--fill-color);\n",
              "    }\n",
              "    90% {\n",
              "      border-color: transparent;\n",
              "      border-bottom-color: var(--fill-color);\n",
              "    }\n",
              "  }\n",
              "</style>\n",
              "\n",
              "  <script>\n",
              "    async function quickchart(key) {\n",
              "      const quickchartButtonEl =\n",
              "        document.querySelector('#' + key + ' button');\n",
              "      quickchartButtonEl.disabled = true;  // To prevent multiple clicks.\n",
              "      quickchartButtonEl.classList.add('colab-df-spinner');\n",
              "      try {\n",
              "        const charts = await google.colab.kernel.invokeFunction(\n",
              "            'suggestCharts', [key], {});\n",
              "      } catch (error) {\n",
              "        console.error('Error during call to suggestCharts:', error);\n",
              "      }\n",
              "      quickchartButtonEl.classList.remove('colab-df-spinner');\n",
              "      quickchartButtonEl.classList.add('colab-df-quickchart-complete');\n",
              "    }\n",
              "    (() => {\n",
              "      let quickchartButtonEl =\n",
              "        document.querySelector('#df-9bf4b323-301d-430e-a3b9-47bf193ba549 button');\n",
              "      quickchartButtonEl.style.display =\n",
              "        google.colab.kernel.accessAllowed ? 'block' : 'none';\n",
              "    })();\n",
              "  </script>\n",
              "</div>\n",
              "    </div>\n",
              "  </div>\n"
            ],
            "text/plain": [
              "                                            Material   Value (K/s)\n",
              "0                                       Ag10Cu45Zr45  8.100000e-01\n",
              "1  Al0.07602085Cu49.95655951Gd0.01086012Zr49.9565...  1.000000e+01\n",
              "2                             Al16Ce32Co5Cu10La32Ni5  5.000000e-01\n",
              "3                             B18Fe27.2Nb4Ni40.8Si10  4.930000e+01\n",
              "4                                           Ag50Cu50  1.000000e+10"
            ]
          },
          "execution_count": 181,
          "metadata": {},
          "output_type": "execute_result"
        }
      ],
      "source": [
        "# Load the CSV file from our local google drive folder\n",
        "file_path = './drive/MyDrive/ML4ER_LLM/ground_truth_ccr_data.csv'\n",
        "# makes it a pandas dataframe for the ground truth database\n",
        "gt_df = pd.read_csv(file_path)\n",
        "# Display the first few rows of the dataframe to understand its structure\n",
        "# db_df['Material']\n",
        "# db_df['Value (K/s)']\n",
        "gt_df.head()"
      ]
    },
    {
      "cell_type": "code",
      "execution_count": null,
      "metadata": {
        "id": "MncXk9TtWYbs"
      },
      "outputs": [],
      "source": [
        "def remove_non_alphanumeric(s):\n",
        "    if len(s.split()) > 1:\n",
        "        return None  # Remove the entire string if it has more than one word\n",
        "    return re.sub(r'[^a-zA-Z0-9]', '', s)"
      ]
    },
    {
      "cell_type": "code",
      "execution_count": null,
      "metadata": {
        "colab": {
          "base_uri": "https://localhost:8080/"
        },
        "id": "2Zp2xqarWZRU",
        "outputId": "3b24aa87-ca48-4f3e-9a36-2190ae5bc5ec"
      },
      "outputs": [
        {
          "name": "stdout",
          "output_type": "stream",
          "text": [
            "{'Ag10Cu45Zr45': 0.81, 'Al0.07602085Cu49.95655951Gd0.01086012Zr49.95655951': 10.0, 'Al16Ce32Co5Cu10La32Ni5': 0.5, 'B18Fe27.2Nb4Ni40.8Si10': 49.3, 'Ag50Cu50': 10000000000.0, 'Al85Co2Fe2Ni5Y6': 1500.0, 'Al86Co2La1.5Ni6Y4.5': 3010.0, 'Al87Ce4Ni9': 10200.0, 'Ag5.5Au49Cu26.9Pd2.3Si16.3': 500.0, 'Co': 10000000000.0, 'B6C15Co50Cr15Mo14': 1000.0, 'Cu50Zr50': 250.0, 'Ag8Al8Cu36Zr48': 6.4, 'Al10Cu40Zr50': 27.2, 'Al7Cu46Gd1Zr46': 10.0, 'Al8Cu46Zr46': 40.0, 'Al7Cu46Zr47': 370.0, 'Cu46Zr54': 54100.0, 'Cu47Ni8Si1Ti33Zr11': 10.85, 'Cu47Ni8Ti34Zr11': 1.0, 'Al4Cu48Zr48': 40.0, 'Cu50Ti35Zr15': 4820.0, 'Cu50Ti7.5Zr42.5': 213.0, 'Cu50Ti45Zr5': 734000.0, 'Cu54Ni6Ti18Zr22': 27.7, 'Cu56Zr44': 40000.0, 'Cu60Ti10Zr30': 180.0, 'Cu60Ti7.5Zr32.5': 138.0, 'Cu64Zr26': 432.0, 'Cu64Zr36': 9780.0, 'Cu25Hf25Ti25Zr25': 100.0, 'B6Fe40Ni40P14': 1000000.0, 'B6C15Co7Cr15Fe41Mo14Y2': 80.0, 'B8.88C15.94Cr15.98Fe42.87Mo16.33': 549.0, 'B19.2Co28.8Fe43.2Nb4Si4.8': 250.0, 'B4.3C15.5Co7.3Cr14.7Fe43.7Mo12.6Y1.9': 80.0, 'B6C15Cr15Fe48Mo14Y2': 80.0, 'Fe49.7Cr17.1Mn1.9Mo7.4W1.6B15.2C3.8Si2.4': 600.0, 'B5.5C5Cr4Fe65.5Ga4Mo4P12': 91.0, 'Al18Gd55Ni25Sn2': 45.18, 'Al20Co25Gd55': 6.9, 'Al20Gd55Mn3Ni22': 22.4, 'Al18Gd55Ni25Zn2': 45.0, 'Al10Cu20Gd60Ni10': 500.0, 'Ge1Sb2Te4': 10000000000.0, 'Al12Cu28Hf55Ni5': 100.0, 'Al25Co5Cu10La55Ni5': 18.8, 'Al25La55Ni20': 67.5, 'La62Cu12Ni12Al14': 15.0, 'La64Cu11Ni11Al14': 15.0, 'La66Cu10Ni10Al14': 15.0, 'Al14Cu10La66Ni10': 450.0, 'La68Cu9Ni9Al14': 15.0, 'La708Ni86Al14': 15.0, 'Cu50La50': 1000000.0, 'Li2O2Si2O4': 0.23333, 'LM105': 10.0, 'Mg64Cu25Y10': 50.0, 'Ca6Mg65.2Zn28.8': 40.0, 'Cu20Mg65Y10Zn5': 25.0, 'Cu25Gd10Mg65': 10.0, 'Cu25Mg65Y10': 100.0, 'Ag5Cu7.5Gd5Mg65Ni7.5Y5Zn5': 20.0, 'Mg65Nd15Ni20': 50.0, 'Ca6Mg67.2Zn26.8': 62.5, 'Mg70Nd10Ni20': 400.0, 'Cu15Gd10Mg75': 325.0, 'Mg85Cu15Gd10': 10000.0, 'Cu5Gd10Mg85': 10000.0, 'Nb54Ni46': 17100000.0, 'Al20Fe20Nd60': 160.0, 'Al10Fe20Nd70': 1000.0, 'Ni40P20Pd40': 1.6, 'Ni59Si2Sn3Ti16Zr20': 40.0, 'Ni59Si5Ti16Zr20': 200.0, 'Cu30Ni10P20Pd40': 1.98, 'Cu30Ni7.5P20Pd42.5': 0.067, 'Cu30Ni10P18Pd42': 250.0, 'Cu28Ni8.8P20Pd43.2': 0.009, 'Cu27Ni10P20Pd43': 1.0, 'Cu6Pd77.5Si16.5': 100.0, 'Cu4Pd77Si18': 500.0, 'Cu6Pd77Si17': 125.0, 'Cu4Pd79.5Si16.5': 500.0, 'Ni75Pd25': 600000000000.0, 'Cu27Ni9.5P21Pt42.5': 2.5, 'Cu14.6Ni5.3P22.8Pt57.3': 20.0, 'Co2Cu16P22Pt60': 20000.0, 'Si0.68Fe0.2Cu0.01Mn0.11Mg0.57Cr0.04Zn0.01Ti0.018 (EN AW-6005A)': 375.0, 'Al25Co20Sm55': 60.0, 'Al10Co15Cu5Fe10Sm60': 110.0, 'Be20Cu12Ni3Ti40Zr25': 800.0, 'VP2076': 0.8833333333, 'VP2212': 0.6833333333, 'Cu50Ti10Zr40': 100.0, 'Be22.5Cu12.5Ni10Ti13.75Zr41.25': 1.0, 'Be22.5Cu12.5Ni10Ti13.8Zr41.2': 250.0, 'Be22.5Cu12.5Ni10Ti14Zr41': 1.0, 'Be23Cu12Ni10Ti14Zr41': 2.0, 'Be27.5Cu7.5Ni10Ti8.25Zr46.75': 10.0, 'Be27.5Cu7.5Ni10Ti8.2Zr46.8': 20.0, 'Be18Cu14Nb8Ni12Zr48': 12.0, 'Al12.3Cu28Ni9Zr50.7': 20.0, 'Al10Cu30Ni10Zr50': 12.0, 'Al8Cu27Ni10Ti5Zr50': 45.0, 'Al14.3Cu23.3Ni10.5Zr51.9': 40.0, 'Al10Cu17.9Ni14.6Ti5Zr52.5': 10.0, 'Al16.3Cu18.7Ni12Zr53': 111.0, 'Al10Cu30Ni5Zr55': 310.0, 'Al10Cu30Ni5Zr55 in Ar': 18.0, 'Al10Cu30Ni5Zr55 in Ar+5%H2': 13.0, 'Zr55Y0.2': 6.5, 'Al10Cu15.4Nb5Ni12.6Zr57.0': 1.0, 'Ag5Al10Cu20Ni8Zr57.0': 2.5, 'Al10Cu20Ni8Ti5Zr57.0': 10.0, 'Al10.3Cu15.6Nb2.8Ni12.8Zr58.5': 1.75, 'Al10.4Cu28.8Nb1.5Zr59.3': 20000.0, 'Al10Co3Cu18Ni9Zr60': 1.0, 'Al10Cu15Ni10Pd5Zr60': 190.0, 'Al10.52631579Cu15.78947368Ni5.26315789Pd5.26315789Zr63.15789474': 10000.0, 'Al10.7Cu13.65Ni14.15Zr61.5': 33.2, 'Al12.1Cu7.95Ni17.45Zr62.5': 40.0, 'Ni38Zr62': 10000.0, 'Al10.7Cu10.7Ni15.1Zr63.5': 40.0, 'Ni34.69387755Zr65.30612245': 10000.0, 'Ni36Zr64': 100000.0, 'Al3.7Cu15.6Ni11.7Ti3.3Zr65.7': 10.0, 'Al7.5Cu17.5Ni10Zr65': 1.5, 'B35Zr65': 10000000.0, 'Al10Cu15Ni10Zr65': 10.0, 'Fe16Ni8Zr76': 16700.0, 'Ni50Zr50': 10000.0, 'Pt-Cu-Ni': 2.5, 'Pt-doped Li2O–2SiO2 (0.001 wt%)': 2.166667, '38Na2O–62SiO2': 0.316}\n"
          ]
        }
      ],
      "source": [
        "# Converts the dataframe of ground truth values into a dictionary\n",
        "gt_df_copy = gt_df.copy()\n",
        "gt_df_copy.set_index('Material' , inplace =True)\n",
        "gt_dict = gt_df_copy['Value (K/s)'].to_dict()\n",
        "print(gt_dict)"
      ]
    },
    {
      "cell_type": "code",
      "execution_count": null,
      "metadata": {
        "colab": {
          "base_uri": "https://localhost:8080/"
        },
        "id": "EoRSyBE1a3WG",
        "outputId": "28b434f6-6358-40d2-81ab-d5a8840bbef2"
      },
      "outputs": [
        {
          "name": "stdout",
          "output_type": "stream",
          "text": [
            "NOT FOUND\n",
            "Al85Co2Fe2Ni5Y6\n",
            "50.0\n",
            "NOT FOUND\n",
            "NOT FOUND\n",
            "NOT FOUND\n",
            "NOT FOUND\n",
            "NOT FOUND\n",
            "NOT FOUND\n",
            "Al10Cu20Gd60Ni10\n",
            "50.0\n",
            "NOT FOUND\n",
            "NOT FOUND\n",
            "NOT FOUND\n",
            "NOT FOUND\n",
            "NOT FOUND\n",
            "NOT FOUND\n",
            "NOT FOUND\n",
            "Cu20Mg65Y10Zn5\n",
            "37.5\n",
            "Cu25Gd10Mg65\n",
            "50.0\n",
            "NOT FOUND\n",
            "NOT FOUND\n",
            "Mg65Nd15Ni20\n",
            "50.0\n",
            "NOT FOUND\n",
            "NOT FOUND\n",
            "NOT FOUND\n",
            "NOT FOUND\n",
            "NOT FOUND\n",
            "NOT FOUND\n",
            "Cu27Ni9.5P21Pt42.5\n",
            "50.0\n",
            "NOT FOUND\n",
            "NOT FOUND\n",
            "NOT FOUND\n",
            "NOT FOUND\n",
            "Al10Cu17.9Ni14.6Ti5Zr52.5\n",
            "100.0\n",
            "NOT FOUND\n",
            "Ni36Zr64\n",
            "0.0\n",
            "Al3.7Cu15.6Ni11.7Ti3.3Zr65.7\n",
            "42.86\n",
            "9 out of 135 Matches Found, success rate: 7%\n"
          ]
        }
      ],
      "source": [
        "PROPERTY = 'Critical cooling rate'\n",
        "same_value = 0\n",
        "role_msg = 'You are the top expert in the world in finding critical cooling rates of specific metallic glasses. You are highly accurate and strive to provide correct cooling rate values for the chemical composition requested by the user. You always think step by step on how to give the correct critical cooling rate value. You also provide citations to scientific journals, papers, or online websites based on where you derived your critical cooling rate value from. At the end, your response always includes a singular number for what you think the critical cooling rate value is, not a range of numbers. Remember that the value a critical cooling rate can take on can be either a really big number or really small number depending on the material. Try to provide a numerical answer no matter, but do not hallucinate values. Make sure your critical cooling rate value is directly based on the exact material that the user is requesting the value for. The data you give is being used in important scientific studies so ensure that the values you provide are very accurate. Be prepared to give the critical cooling rate for any metallic glass requested by the user, which will be given in the form of a chemical composition.'\n",
        "msg = [{\"role\": \"system\", \"content\": role_msg}]\n",
        "gpt_dict = {}\n",
        "final_dict = {}\n",
        "gt_vals_csv = []\n",
        "gpt_vals_csv = []\n",
        "\n",
        "i = 0\n",
        "for key in gt_dict:\n",
        "  val_list = []\n",
        "  msg.clear()\n",
        "  og_key = key\n",
        "  qs = 'Give me the critical cooling rate value for: ' + key\n",
        "  msg.append({\"role\": \"system\", \"content\": qs})\n",
        "  msg, ans = prompt(msg)\n",
        "  #print(ans)\n",
        "  # A bunch of regex work to extract the exact number from the entire prompt response from chatGPT\n",
        "  match = re.search(r'\\b(\\d+(\\.\\d+)?)(\\^(\\d+))?\\b', ans)\n",
        "  output_regex = None\n",
        "  if match:\n",
        "    whole_number = match.group(0)  # Entire matched number\n",
        "    left_side = float(match.group(1))  # Digits before the decimal point\n",
        "    right_side = int(match.group(4)) if match.group(4) else None  # Exponent or None\n",
        "    if '.' in match.group(0):  # Check if decimal point exists\n",
        "        #print(float(whole_number))\n",
        "        output_regex = float(whole_number)\n",
        "\n",
        "    elif right_side is not None:\n",
        "        result = math.pow(left_side, right_side)\n",
        "        output_regex = float(result)\n",
        "    else:\n",
        "        output_regex = float(whole_number)\n",
        "  else:\n",
        "    print(\"NOT FOUND\")\n",
        "    continue\n",
        "  if (gt_dict[key] > output_regex):\n",
        "    if (output_regex * 2 >= gt_dict[key]):\n",
        "      diff = gt_dict[key] - output_regex\n",
        "      percent_diff = (diff / output_regex) * 100\n",
        "      rounded_pec = round(percent_diff , 2)\n",
        "      val_list.append(output_regex)\n",
        "      val_list.append(gt_dict[key])\n",
        "      val_list.append(rounded_pec)\n",
        "      final_dict[key] = val_list\n",
        "      i = i + 1\n",
        "      print(key)\n",
        "      print(rounded_pec)\n",
        "  else:\n",
        "      if (gt_dict[key] * 2 >= output_regex):\n",
        "        diff = output_regex - gt_dict[key]\n",
        "        percent_diff = (diff / output_regex) * 100\n",
        "        rounded_pec = round(percent_diff , 2)\n",
        "        val_list.append(output_regex)\n",
        "        val_list.append(gt_dict[key])\n",
        "        val_list.append(rounded_pec)\n",
        "        final_dict[key] = val_list\n",
        "        i = i + 1\n",
        "        print(key)\n",
        "        print(rounded_pec)\n",
        "\n",
        "\n",
        "\n",
        "print(str(i) + \" out of \" + str(len(gt_dict)) + \" Matches Found, success rate: \" + str(round((i / len(gt_dict)) * 100)) + \"%\")\n",
        "\n",
        "\n",
        "material_set = set()\n",
        "moving_dict = {}\n",
        "bool = True # boolean for if the CSV is empty, value is true if it is empty\n",
        "final_data_path = '/content/sample_data/matches.csv'\n",
        "with open(final_data_path , 'r') as file:\n",
        "  reader = csv.reader(file) # Reads CSV to see if it is empty, if it's not it reads it all back\n",
        "  try:\n",
        "    next(reader)\n",
        "    bool = False\n",
        "    for row in reader:\n",
        "      material_set.add(row[0])\n",
        "  except:\n",
        "    pass\n",
        "\n",
        "for key in final_dict:\n",
        "  initial_length = len(material_set)\n",
        "  material_set.add(key)\n",
        "  after_length = len(material_set)\n",
        "  if (initial_length != after_length):\n",
        "    moving_dict[key] = final_dict[key]\n",
        "\n",
        "\n",
        "\n",
        "\n",
        "# Populates the CSV with the initial group of data\n",
        "if bool:\n",
        "  bool = False\n",
        "  with open(final_data_path , 'w') as file: # Writing\n",
        "    writer = csv.writer(file)\n",
        "    for key,value in final_dict.items():\n",
        "      writer.writerow([key,value[0],value[1],value[2]])\n",
        "else: # Appends the new data to the CSV if the CSV is already populated\n",
        "    with open(final_data_path , 'a') as file: # Appending\n",
        "      writer = csv.writer(file)\n",
        "      for key,value in moving_dict.items():\n",
        "        writer.writerow([key,value[0],value[1],value[2]])\n",
        "\n",
        "# Read back the predicted values and observed values and store them in two lists for use in a parity plot\n",
        "\n",
        "# avg_diff = 0 # average percent difference\n",
        "# with open(final_data_path , 'r') as file:\n",
        "#   reader = csv.reader(file)\n",
        "#   count = 0\n",
        "#   sum = 0\n",
        "#   for row in reader:\n",
        "#     gpt_vals_csv.append(row[1])\n",
        "#     gt_vals_csv.append(row[2])\n",
        "#     sum = sum + float(row[3])\n",
        "#     count += 1\n",
        "#   avg_diff = sum / count\n",
        "\n",
        "\n",
        "\n",
        "\n",
        "\n",
        "\n",
        "#print(gpt_dict)\n",
        "#qs = [\"Provide me with a list of \"+PROPERTY+\" values for different metallic glasses. Your response should be a table consisting of 2 columns: material, value. Make sure that the data is in these two columns no matter what. The materials have to be typed as unique chemical compositions consisting of chemical element abbreviations and numbers only (e.g. GaAs, but not Gallium Arsenide). Make sure the materials listed actually exist and are not made up. The values have to be single numbers, not ranges and need to be in K/s units. Search through all of the internet and try get data from credible academic journals and papers relating to metallic glasses to generate accurate data. Type out as many different values as you can. You are not allowed to type anything else than this table.\",\n",
        " #     \"Continue to expand the table  with new values of \"+PROPERTY+\" for more metallic glasses while making sure you do not have duplicate entries for the same metallic glass. Type out as many different values as you can. Search through all of the internet and try get data from credible academic journals and papers relating to metallic glasses to generate accurate data. You are not allowed to type anything else than this table.\"]\n",
        "#qs = [\"Conduct a comprehensive search across academic and scientific online resources to compile a list of \"+PROPERTY+\" values for various metallic glasses. Present the data in a table with two columns: 'Material' and 'Value'. For the 'Material' column, use standard chemical notation for unique chemical compositions (e.g., 'GaAs' instead of 'Gallium Arsenide'). Ensure the listed materials are real and not hypothetical. For the 'Value' column, provide exact numbers in K/s units, avoiding ranges. Prioritize data from credible and authoritative academic journals and scientific papers on metallic glasses. Type out as many different values as you can while ensuring accuracy and relevance. You are not allowed to type anything else than this table.\" , \"Continue expanding the current table with new \" +PROPERTY+ \" values for additional metallic glasses. Ensure that each entry is unique and does not duplicate previously listed metallic glasses. Aim to include as many distinct values as possible, adhering to these guidelines: 1. Focus exclusively on different metallic glasses not covered in the previous response. 2. Prioritize data sourced from credible, peer-reviewed academic journals and scientific papers. 3. Continue to clearly represent the material using standard chemical notation. 4. Provide values as single numbers in K/s units, without ranges. 6. Limit the search to additional, scientifically recognized metallic glasses. Avoid including any extraneous information or commentary in the response – strictly the expanded table with the requested details.\"]"
      ]
    },
    {
      "cell_type": "markdown",
      "metadata": {
        "id": "IGM345OOOK0t"
      },
      "source": [
        "*Give* the file a uniquely\n",
        "\n",
        "---\n",
        "\n",
        "identifiable name. We want to save EVERYTHING or we will lose it, and each generation costs money. Either link up your google drive, or download all files each time because they are temporary (if executed on colab)."
      ]
    },
    {
      "cell_type": "code",
      "execution_count": null,
      "metadata": {
        "colab": {
          "base_uri": "https://localhost:8080/",
          "height": 931
        },
        "id": "IAS1ihlz1al0",
        "outputId": "a7ec652d-ecde-4071-f1f8-291f4c7e8e07"
      },
      "outputs": [
        {
          "name": "stdout",
          "output_type": "stream",
          "text": [
            "40\n",
            "40\n",
            "36.427749999999996\n"
          ]
        },
        {
          "data": {
            "image/png": "[encoded data removed]",
            "text/plain": [
              "<Figure size 1000x1000 with 1 Axes>"
            ]
          },
          "metadata": {},
          "output_type": "display_data"
        }
      ],
      "source": [
        "# Make a parity plot of the ground truth values against the GPT values\n",
        "\n",
        "# puts the CSV data in a pandas dataframe\n",
        "data = pd.read_csv(final_data_path, header = None)\n",
        "column_names = ['Material' , 'GPT Value' , 'GT Value' , 'Percent Difference']\n",
        "data.columns = column_names\n",
        "predicted = data['GPT Value']\n",
        "observed = data['GT Value']\n",
        "\n",
        "# Some printing\n",
        "print(len(observed))\n",
        "print(len(predicted))\n",
        "print(avg_diff)\n",
        "\n",
        "\n",
        "plt.figure(figsize=(10, 10))\n",
        "\n",
        "# Using logarithmic scale because of the large range of values\n",
        "plt.xscale('log')\n",
        "plt.yscale('log')\n",
        "\n",
        "# Scatter plot\n",
        "plt.scatter(observed, predicted, color='blue', label='Data points')\n",
        "\n",
        "# Line of perfect prediction\n",
        "plt.plot([min(observed.min(), predicted.min()), max(observed.max(), predicted.max())],\n",
        "         [min(observed.min(), predicted.min()), max(observed.max(), predicted.max())],\n",
        "         'k--', label='Perfect prediction')\n",
        "\n",
        "# labels\n",
        "plt.xlabel('Observed Values')\n",
        "plt.ylabel('Predicted Values')\n",
        "plt.title('Log-Scaled Parity Plot')\n",
        "\n",
        "plt.legend()\n",
        "plt.grid(True)\n",
        "plt.show()\n",
        "\n",
        "\n"
      ]
    },
    {
      "cell_type": "code",
      "execution_count": null,
      "metadata": {
        "colab": {
          "base_uri": "https://localhost:8080/"
        },
        "id": "bzAsK-xAOKTU",
        "outputId": "c1e905f5-467a-4c7a-8b51-46aea04602cf"
      },
      "outputs": [
        {
          "name": "stdout",
          "output_type": "stream",
          "text": [
            "Saving to: Criticalcoolingrate_2024_04_30-205552.csv and Criticalcoolingrate_2024_04_30-205552.txt\n",
            "{}\n"
          ]
        }
      ],
      "source": [
        "filename = PROPERTY.replace(\" \", \"\")+'_'+dtime+'.csv'\n",
        "print(f\"Saving to: {filename} and {filename.replace('csv','txt')}\")\n",
        "print(gpt_dict)"
      ]
    },
    {
      "cell_type": "markdown",
      "metadata": {
        "id": "YcorW2LDOxGw"
      },
      "source": [
        "Here we set up a structure for the chat. I like to hold the conversation in a list, and then each prompt and response inside it are dictionaries, as per OpenAI requirements. I start with just the system prompt and will append to that later.\n",
        "\n",
        "I also set up some empty lists and initial values to keep track of progress"
      ]
    },
    {
      "cell_type": "markdown",
      "metadata": {
        "id": "Br38sWQCPKfn"
      },
      "source": [
        "This is the main loop that will loop over the prompts, get responses and try to put them in a structured data format.\n",
        "\n",
        "This while approach is VERY SIMPLE and does not account for many things that may be the response deom the model, so it is only an example to build upon based on the result, not a solution ready to be used. It does not even have to be used at all if one has a better/different idea."
      ]
    },
    {
      "cell_type": "code",
      "execution_count": null,
      "metadata": {
        "colab": {
          "base_uri": "https://localhost:8080/",
          "height": 216
        },
        "id": "vkrmS0FMOtgc",
        "outputId": "a7837778-f8f8-44d3-ea29-35ad4bfef581"
      },
      "outputs": [
        {
          "ename": "NameError",
          "evalue": "name 'system' is not defined",
          "output_type": "error",
          "traceback": [
            "\u001b[0;31m---------------------------------------------------------------------------\u001b[0m",
            "\u001b[0;31mNameError\u001b[0m                                 Traceback (most recent call last)",
            "\u001b[0;32m<ipython-input-187-2911d603c7eb>\u001b[0m in \u001b[0;36m<cell line: 1>\u001b[0;34m()\u001b[0m\n\u001b[0;32m----> 1\u001b[0;31m \u001b[0msss\u001b[0m \u001b[0;34m=\u001b[0m \u001b[0;34m[\u001b[0m\u001b[0;34m{\u001b[0m\u001b[0;34m\"role\"\u001b[0m\u001b[0;34m:\u001b[0m \u001b[0;34m\"system\"\u001b[0m\u001b[0;34m,\u001b[0m \u001b[0;34m\"content\"\u001b[0m\u001b[0;34m:\u001b[0m \u001b[0msystem\u001b[0m\u001b[0;34m}\u001b[0m\u001b[0;34m]\u001b[0m\u001b[0;34m\u001b[0m\u001b[0;34m\u001b[0m\u001b[0m\n\u001b[0m\u001b[1;32m      2\u001b[0m \u001b[0mtab\u001b[0m \u001b[0;34m=\u001b[0m \u001b[0;34m[\u001b[0m\u001b[0;34m]\u001b[0m\u001b[0;34m\u001b[0m\u001b[0;34m\u001b[0m\u001b[0m\n\u001b[1;32m      3\u001b[0m \u001b[0mtab_clean\u001b[0m \u001b[0;34m=\u001b[0m \u001b[0;34m[\u001b[0m\u001b[0;34m]\u001b[0m\u001b[0;34m\u001b[0m\u001b[0;34m\u001b[0m\u001b[0m\n\u001b[1;32m      4\u001b[0m \u001b[0mur\u001b[0m \u001b[0;34m=\u001b[0m \u001b[0;36m0\u001b[0m\u001b[0;34m\u001b[0m\u001b[0;34m\u001b[0m\u001b[0m\n\u001b[1;32m      5\u001b[0m \u001b[0mum\u001b[0m \u001b[0;34m=\u001b[0m \u001b[0;36m0\u001b[0m\u001b[0;34m\u001b[0m\u001b[0;34m\u001b[0m\u001b[0m\n",
            "\u001b[0;31mNameError\u001b[0m: name 'system' is not defined"
          ]
        }
      ],
      "source": [
        "sss = [{\"role\": \"system\", \"content\": system}]\n",
        "tab = []\n",
        "tab_clean = []\n",
        "ur = 0\n",
        "um = 0\n",
        "i = 0"
      ]
    },
    {
      "cell_type": "code",
      "execution_count": null,
      "metadata": {
        "id": "VNMePOTgZ8pB"
      },
      "outputs": [],
      "source": [
        "while True:\n",
        "    # here i send my first prompt first and then loop over the second one over and\n",
        "    # over again. You will likely have a different approach to this.\n",
        "    if i<1:\n",
        "      qq = qs[0]\n",
        "    else:\n",
        "      qq = qs[1]\n",
        "    # save the first prompt to the conversation\n",
        "    sss.append({\"role\": \"user\", \"content\": qq})\n",
        "    # send out the first prompt and receive the response\n",
        "    print(sss)\n",
        "    sss,ans = prompt(sss)\n",
        "    # save the response to the conversation\n",
        "    sss.append({\"role\": \"assistant\", \"content\": ans})\n",
        "\n",
        "    # we are saving the raw prompts and raw responses, in case we want to analyze\n",
        "    # or postprocess later\n",
        "    with open(filename.replace('csv','txt'), 'a') as file:\n",
        "      print(\"USER: \"+qq, file=file)\n",
        "      print(\"GPT : \"+ans, file=file)\n",
        "\n",
        "    # Here we start to grab the data into a nicer structure. For simplicity I had\n",
        "    # a lot of assumptions. I assume that the word 'value' exists in the header\n",
        "    # (see first prompt), I remove the header, the separator, and get the rest.\n",
        "    lines = ans.split('\\n')\n",
        "    if 'value' in lines[0].lower():\n",
        "      ans = '\\n'.join(lines[1:])\n",
        "    lines = ans.split('\\n')\n",
        "    if '----' in lines[0].lower():\n",
        "      ans = '\\n'.join(lines[1:])\n",
        "    lines = ans.split('\\n')\n",
        "\n",
        "    # here I try to split the table by columns. I'm assuming that they are\n",
        "    # separated with |, which is not necessary always the case.\n",
        "    tab.append(ans)\n",
        "    try:\n",
        "      for line in tab[-1].strip().split('\\n'):\n",
        "        tab_clean.append(line.strip('|').split('|'))\n",
        "    except:\n",
        "      pass\n",
        "\n",
        "    # another assumption - only two columns, \"material\" and \"value\" (see prompt)\n",
        "    # some cleanup, converting strings to numbers etc.\n",
        "    # there is no error handling or edge cases, for example 1.6-1.7 will be removed\n",
        "    # because it technically is not a number (although it kind of is).\n",
        "    df = pd.DataFrame(tab_clean, columns=['Material', 'Value'])\n",
        "    df = df[pd.to_numeric(df['Value'], errors='coerce').notna()]\n",
        "    df['Value'] = pd.to_numeric(df['Value'])\n",
        "    df.to_csv(filename, index=False)\n",
        "    df['Material'] = df['Material'].str.replace('-', '', regex=True)\n",
        "\n",
        "    # here I count how many new (non-duplicate) materials we are extracting each\n",
        "    # time, to monitor progress. We stop if more than 10 iterations or not progress\n",
        "    if len(df.drop_duplicates()) > ur or df['Material'].nunique() > um:\n",
        "      ur = len(df.drop_duplicates())\n",
        "      um = df['Material'].nunique()\n",
        "      i = i+1\n",
        "      if i > 10:\n",
        "        print(\"Stopping due to 10 iterations exceeded\")\n",
        "        break\n",
        "    else:\n",
        "      print(\"Stopping due to NO PROGRESS\")\n",
        "      break\n",
        "\n",
        "    print(f\"Iteration: {i:3} Generated_rows: {len(lines):3};     TOTAL:  Uniq_rows: {len(df.drop_duplicates()):4d}   Uniq_materials: {df['Material'].nunique():4d}\")\n",
        "\n",
        "\n",
        "  # gpt_dict = dict(zip(df['Material'], df['Value']))\n",
        "  # print(gpt_dict)\n"
      ]
    },
    {
      "cell_type": "code",
      "execution_count": null,
      "metadata": {
        "id": "5O5ZS9dX4Wja"
      },
      "outputs": [],
      "source": [
        "from google.colab import drive\n",
        "drive.mount('/content/drive', force_remount=True)\n"
      ]
    },
    {
      "cell_type": "code",
      "execution_count": null,
      "metadata": {
        "id": "GTRPgrJT4yDT"
      },
      "outputs": [],
      "source": [
        "import math\n",
        "import re\n",
        "import pandas as pd"
      ]
    },
    {
      "cell_type": "code",
      "execution_count": null,
      "metadata": {
        "id": "q7-FY36mbi02"
      },
      "outputs": [],
      "source": [
        "\n",
        "# Load the CSV file\n",
        "file_path = './drive/MyDrive/ML4ER_LLM/Metallic_Glasses_Dataset.csv'\n",
        "df2 = pd.read_csv(file_path)\n",
        "\n",
        "# Display the first few rows of the dataframe to understand its structure\n",
        "df2.head()\n"
      ]
    },
    {
      "cell_type": "code",
      "execution_count": null,
      "metadata": {
        "id": "MDiyYnMJ6DgE"
      },
      "outputs": [],
      "source": [
        "def remove_non_alphanumeric(s):\n",
        "    if len(s.split()) > 1:\n",
        "        return None  # Remove the entire string if it has more than one word\n",
        "    return re.sub(r'[^a-zA-Z0-9]', '', s)"
      ]
    },
    {
      "cell_type": "code",
      "execution_count": null,
      "metadata": {
        "id": "n-tMqUXE6JyJ"
      },
      "outputs": [],
      "source": [
        "\n",
        "df_copy = df.copy()\n",
        "df2_copy = df2[['Composition', 'Rc_[K/s]']].copy()\n",
        "\n",
        "df2_copy = df2_copy.rename(columns={'Composition': 'Material'})\n",
        "df2_copy = df2_copy.rename(columns={'Rc_[K/s]': 'Value'})\n",
        "\n",
        "df_copy['Material'] = df_copy['Material'].apply(remove_non_alphanumeric)\n",
        "#df2_copy['Material'] = df2_copy['Material'].apply(remove_non_alphanumeric)\n",
        "\n",
        "df2_copy['Material'] = df2_copy['Material'].apply(lambda x: re.sub(r'[ .]', '', x)).reset_index(drop=True)\n",
        "\n",
        "df_copy = df_copy.dropna(subset=['Material']).reset_index(drop=True)\n",
        "df2_copy = df2_copy.dropna(subset=['Material']).reset_index(drop=True)\n",
        "df2_copy = df2_copy.dropna(subset=['Value']).reset_index(drop=True)\n",
        "\n",
        "#df2_copy = df2_copy[df2_copy['Material'] != '38Na2O62SiO2'].reset_index(drop=True)\n",
        "df2_copy\n"
      ]
    },
    {
      "cell_type": "code",
      "execution_count": null,
      "metadata": {
        "id": "mYgmnm4pWR-i"
      },
      "outputs": [],
      "source": [
        "df2_copy.shape"
      ]
    },
    {
      "cell_type": "code",
      "execution_count": null,
      "metadata": {
        "id": "96sPRaRSimXr"
      },
      "outputs": [],
      "source": [
        "len(df2_copy)"
      ]
    },
    {
      "cell_type": "code",
      "execution_count": null,
      "metadata": {
        "id": "jNTQnea5im9v"
      },
      "outputs": [],
      "source": [
        "#from pymatgen import Composition\n",
        "\n",
        "def compare_compounds(compound1, compound2):\n",
        "    # Create Composition objects\n",
        "    comp1 = Composition(compound1)\n",
        "    comp2 = Composition(compound2)\n",
        "\n",
        "    # Check if the elemental composition is the same\n",
        "    return comp1.element_composition == comp2.element_composition"
      ]
    },
    {
      "cell_type": "code",
      "execution_count": null,
      "metadata": {
        "id": "Kz1dOpRxmxyK"
      },
      "outputs": [],
      "source": [
        "gpt_dict = dict(zip(df_copy['Material'], df_copy['Value']))\n",
        "#print(gpt_dict)\n",
        "#print(df2_copy['Value'])\n",
        "database_dict = dict(zip(df2_copy['Material'], df2_copy['Value']))\n",
        "correct_dict = {}\n",
        "print(len(database_dict))\n",
        "# print(len(database_dict))\n",
        "# print(database_dict)\n",
        "same_material = 0\n",
        "same_value = 0\n",
        "for gpt_mat in gpt_dict:\n",
        "  for database_mat in database_dict:\n",
        "    #print(compare_compounds(gpt_mat, database_mat))\n",
        "    try:\n",
        "      if (compare_compounds(gpt_mat, database_mat)):\n",
        "        print(\"GPT: \" + gpt_mat + \" Ground Truth: \" + database_mat)\n",
        "        same_material += 1\n",
        "        if (gpt_dict[gpt_mat] > database_dict[database_mat]):\n",
        "          if (gpt_dict[gpt_mat]/database_dict[database_mat] >= 5):\n",
        "            continue\n",
        "        else:\n",
        "          if (database_dict[database_mat]/gpt_dict[gpt_mat] >= 5):\n",
        "            continue\n",
        "          # abs(gpt_dict[gpt_mat] - database_dict[database_mat])/database_dict[database_mat] <= 5\n",
        "          #print(abs(gpt_dict[gpt_mat] - database_dict[database_mat]) * 100)\n",
        "          same_value += 1\n",
        "          print(f'GPT: {gpt_mat}, {gpt_dict[gpt_mat]}     GT: {database_mat}, {database_dict[database_mat]}')\n",
        "          correct_dict[gpt_mat] = [gpt_dict[gpt_mat],database_dict[database_mat]]\n",
        "          correct_list = [database_mat , database_dict[database_mat] , gpt_dict[gpt_mat]]\n",
        "          # Specify the file name\n",
        "          filename = '/content/gptdata.csv'\n",
        "          with open(filename, 'a') as f_obj:\n",
        "    # creating a csv writer object\n",
        "            csvwriter = csv.writer(f_obj)\n",
        "    # writing the fields\n",
        "            #csvwriter.writerow(fields)\n",
        "    # writing the data rows\n",
        "            csvwriter.writerow(correct_list)\n",
        "    except Exception as e:\n",
        "        # Handle other types of errors\n",
        "        print(\"Error: \" + str(gpt_mat) + \",  \" + str(database_mat))\n",
        "print(f'\\nsame material: {same_material}')\n",
        "print(f'\\nsame value: {same_value}')\n",
        "print(f'\\nsuccess rate based on GPT: {same_material/len(gpt_dict)}')\n",
        "# print(correct_dict)\n",
        "# len(correct_dict)"
      ]
    },
    {
      "cell_type": "code",
      "execution_count": null,
      "metadata": {
        "id": "zfA_vZ6impo1"
      },
      "outputs": [],
      "source": [
        "from google.colab import drive\n",
        "drive.mount('/content/drive')"
      ]
    },
    {
      "cell_type": "code",
      "execution_count": null,
      "metadata": {
        "id": "3jwKmiI-aW7P"
      },
      "outputs": [],
      "source": [
        "print(len(gpt_dict))\n",
        "print(len(database_dict))"
      ]
    }
  ],
  "metadata": {
    "colab": {
      "provenance": []
    },
    "kernelspec": {
      "display_name": "Python 3",
      "name": "python3"
    },
    "language_info": {
      "name": "python"
    }
  },
  "nbformat": 4,
  "nbformat_minor": 0
}
